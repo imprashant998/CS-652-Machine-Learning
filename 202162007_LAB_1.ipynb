{
 "cells": [
  {
   "cell_type": "markdown",
   "metadata": {
    "id": "2YJxH5VNcYtp"
   },
   "source": [
    "# <center> IIIT Vadodara </center>\n",
    "## <center> Winter 2021-22 </center>\n",
    "## <center> CS 612/652 Machine Learning </center>\n",
    "## <center> Lab#1 INTRODUCTION </center>\n",
    "\n",
    "#### Prashant Kumar (2021620067)"
   ]
  },
  {
   "cell_type": "markdown",
   "metadata": {
    "id": "SC8rZl_fnw1d"
   },
   "source": [
    "## Basic of Numbers in python"
   ]
  },
  {
   "cell_type": "code",
   "execution_count": 40,
   "metadata": {
    "id": "Rr8W2uMznw1g"
   },
   "outputs": [
    {
     "name": "stdout",
     "output_type": "stream",
     "text": [
      "3 <class 'int'>\n"
     ]
    }
   ],
   "source": [
    "x = 3\n",
    "print (x, type(x))"
   ]
  },
  {
   "cell_type": "code",
   "execution_count": 41,
   "metadata": {
    "id": "SJouww7Inw1p"
   },
   "outputs": [
    {
     "name": "stdout",
     "output_type": "stream",
     "text": [
      "4\n",
      "2\n",
      "6\n",
      "9\n"
     ]
    }
   ],
   "source": [
    "print (x + 1)   # Addition;\n",
    "print (x - 1)   # Subtraction;\n",
    "print (x * 2)   # Multiplication;\n",
    "print (x ** 2)  # Exponentiation;"
   ]
  },
  {
   "cell_type": "code",
   "execution_count": 42,
   "metadata": {
    "id": "nj14uZF2nw1z"
   },
   "outputs": [
    {
     "name": "stdout",
     "output_type": "stream",
     "text": [
      "4\n",
      "8\n"
     ]
    }
   ],
   "source": [
    "x += 1\n",
    "print (x)  # Prints \"4\"\n",
    "x *= 2\n",
    "print (x)  # Prints \"8\""
   ]
  },
  {
   "cell_type": "code",
   "execution_count": 43,
   "metadata": {
    "id": "gUMeY7ILnw16"
   },
   "outputs": [
    {
     "name": "stdout",
     "output_type": "stream",
     "text": [
      "<class 'float'>\n",
      "2.5 3.5 5.0 6.25\n"
     ]
    }
   ],
   "source": [
    "y = 2.5\n",
    "print (type(y) )# Prints \"<type 'float'>\"\n",
    "print (y, y + 1, y * 2, y ** 2) # Prints \"2.5 3.5 5.0 6.25\""
   ]
  },
  {
   "cell_type": "markdown",
   "metadata": {
    "id": "qxvvHiItnw2H"
   },
   "source": [
    "Note that unlike many languages, Python does not have unary increment (x++) or decrement (x--) operators.\n",
    "\n",
    "Python also has built-in types for long integers and complex numbers; you can find all of the details in the [documentation](https://docs.python.org/2/library/stdtypes.html#numeric-types-int-float-long-complex)."
   ]
  },
  {
   "cell_type": "markdown",
   "metadata": {
    "id": "EPF5FeiybxYi"
   },
   "source": [
    "## Numpy \n",
    "Numpy is the core library for scientific computing in Python. It provides a high-performance multidimensional array object, and tools for working with these arrays. If you are already familiar with MATLAB,"
   ]
  },
  {
   "cell_type": "code",
   "execution_count": 44,
   "metadata": {
    "id": "zzuw0IDlb4uY"
   },
   "outputs": [],
   "source": [
    "import numpy as np"
   ]
  },
  {
   "cell_type": "markdown",
   "metadata": {
    "id": "UjZvGRYzb6xp"
   },
   "source": [
    "Find details of mathemetical function in numpy  at https://docs.scipy.org/doc/numpy-1.15.0/reference/routines.math.html"
   ]
  },
  {
   "cell_type": "markdown",
   "metadata": {
    "id": "WM95q6CkXwv6"
   },
   "source": [
    "## <font color='red'>1. Evaluate the expression $a^3+\\sqrt{bd}-4c$, where $a=1.2, b=2.3, c=4.5$ and $d=4$.</font> "
   ]
  },
  {
   "cell_type": "code",
   "execution_count": 45,
   "metadata": {
    "id": "3CI1OWaFYsyg"
   },
   "outputs": [
    {
     "data": {
      "text/plain": [
       "-13.23884982237938"
      ]
     },
     "execution_count": 45,
     "metadata": {},
     "output_type": "execute_result"
    }
   ],
   "source": [
    "#Write your code\n",
    "def evaluate(a,b,c,d):\n",
    " return (a**3)+((b*d)**0.5) - (4*c)\n",
    "evaluate(1.2,2.3,4.5,4)"
   ]
  },
  {
   "cell_type": "markdown",
   "metadata": {
    "id": "e_J4a3YEfe6P"
   },
   "source": [
    "## Numpy array indexing and array operations\n",
    "Help to create Numpy array: https://docs.scipy.org/doc/numpy-1.15.0/reference/generated/numpy.array.html#numpy.array\n",
    "\n",
    "Help to create Numpy array indexing:https://docs.scipy.org/doc/numpy-1.15.0/reference/arrays.indexing.html\n",
    "\n",
    "Help to create Numpy for matlab user:https://docs.scipy.org/doc/numpy/user/numpy-for-matlab-users.html\n"
   ]
  },
  {
   "cell_type": "markdown",
   "metadata": {
    "id": "3IPVZYK9dkxa"
   },
   "source": [
    "## <font color='red'>2. Consider the two matrices: </font>\n",
    "\n",
    "$A=\\begin{bmatrix}4 & -6 \\\\6 & 10\n",
    "\\end{bmatrix}$ $B=\\begin{bmatrix}6 & -13 \\\\3.4 & 16\n",
    "\\end{bmatrix}$.\n",
    "## <font color='red'>Find: (a) $A+B$ (b) $B^2$ (c) $AB$ (d) $B^TA^T$ (e) Replace the second column of $A$ with that of $B$. "
   ]
  },
  {
   "cell_type": "code",
   "execution_count": 46,
   "metadata": {
    "id": "w-nnu6l4gIY6"
   },
   "outputs": [
    {
     "name": "stdout",
     "output_type": "stream",
     "text": [
      "A+B = \n",
      " [[ 10.  -19. ]\n",
      " [  9.4  26. ]] \n",
      "\n"
     ]
    },
    {
     "data": {
      "text/latex": [
       "$B^2 = $"
      ],
      "text/plain": [
       "<IPython.core.display.Latex object>"
      ]
     },
     "metadata": {},
     "output_type": "display_data"
    },
    {
     "name": "stdout",
     "output_type": "stream",
     "text": [
      "[[  -8.2 -286. ]\n",
      " [  74.8  211.8]] \n",
      "\n",
      "AB = \n",
      " [[   3.6 -148. ]\n",
      " [  70.    82. ]] \n",
      "\n"
     ]
    },
    {
     "data": {
      "text/latex": [
       "$B^T.A^T = $"
      ],
      "text/plain": [
       "<IPython.core.display.Latex object>"
      ]
     },
     "metadata": {},
     "output_type": "display_data"
    },
    {
     "name": "stdout",
     "output_type": "stream",
     "text": [
      "[[   3.6   70. ]\n",
      " [-148.    82. ]] \n",
      "\n",
      "A after 2nd column is replaced with that of B \n",
      " [[  4 -13]\n",
      " [  6  16]] \n",
      "\n"
     ]
    }
   ],
   "source": [
    "#write your code\n",
    "from IPython.display import display, Latex\n",
    "\n",
    "A = np.array([[4,-6],[6,10]])\n",
    "B = np.array([[6, -13],[3.4,16]])\n",
    "\n",
    "# a)\n",
    "print(\"A+B = \\n\",A+B,'\\n')\n",
    "\n",
    "# b)\n",
    "display(Latex(f'$B^2 = $'))\n",
    "print(np.matmul(B,B),'\\n')\n",
    "\n",
    "# c)\n",
    "print(\"AB = \\n\",np.matmul(A,B),'\\n')\n",
    "\n",
    "# d)\n",
    "display(Latex(f'$B^T.A^T = $'))\n",
    "print(np.matmul(B.T,A.T),'\\n')\n",
    "\n",
    "# e)\n",
    "A[:,1] = B[:,1]\n",
    "print(\"A after 2nd column is replaced with that of B \\n\",A,'\\n')"
   ]
  },
  {
   "cell_type": "markdown",
   "metadata": {
    "id": "AaDe3HVi-mgV"
   },
   "source": [
    "## Numpy : Linear *algebra*\n",
    "https://docs.scipy.org/doc/numpy-1.15.0/reference/routines.linalg.html"
   ]
  },
  {
   "cell_type": "markdown",
   "metadata": {
    "id": "QyptrBW578Se"
   },
   "source": [
    "## <font color='red'>3. Find the solution of the following set of linear algebraic equations:$$5x+6y+10z=4$$ $$-3x+14z=10$$ $$-7y+21z=0$$</font> "
   ]
  },
  {
   "cell_type": "code",
   "execution_count": 47,
   "metadata": {
    "id": "F6Ta5w348idj"
   },
   "outputs": [
    {
     "name": "stdout",
     "output_type": "stream",
     "text": [
      "x = -1.4545454545454546\n",
      "y = 1.2077922077922079\n",
      "z = 0.4025974025974026\n"
     ]
    },
    {
     "data": {
      "text/plain": [
       "True"
      ]
     },
     "execution_count": 47,
     "metadata": {},
     "output_type": "execute_result"
    }
   ],
   "source": [
    "#write your code\n",
    "A = np.array([[5,6,10],\n",
    "    [-3,0,14],\n",
    "    [0,-7,21]])\n",
    "b = np.array([4,10,0]).T\n",
    "x = np.linalg.solve(A, b)\n",
    "print(\"x =\",x[0])\n",
    "print(\"y =\",x[1])\n",
    "print(\"z =\",x[2])\n",
    "np.allclose(np.matmul(A,x),b)"
   ]
  },
  {
   "cell_type": "markdown",
   "metadata": {
    "id": "zhGD6rIYCJ8i"
   },
   "source": [
    "## <font color='red'>4. Find the solution of the following set of linear algebraic equations such that $\\Vert Ax-b\\Vert^2_2$is minimized:$$5x+6y+10z=4$$ $$-3x+14z=10$$ $$-7y+21z=0$$$$2x-y+45z=16$$</font> \n",
    "Hint: Use psudo inverse"
   ]
  },
  {
   "cell_type": "code",
   "execution_count": 48,
   "metadata": {
    "id": "HyVZ5bHKC6Lr"
   },
   "outputs": [
    {
     "name": "stdout",
     "output_type": "stream",
     "text": [
      "x = -1.4610389610389662\n",
      "y = 1.2393320964749572\n",
      "z = 0.4369202226345088\n"
     ]
    }
   ],
   "source": [
    "#write your code\n",
    "A = np.array(\n",
    "    [[5,6,10],\n",
    "    [-3,0,14],\n",
    "    [0,-7,21],\n",
    "    [2,-1,45]])\n",
    "b = np.array([4,10,0,16]).T\n",
    "\n",
    "inv_A = np.linalg.pinv(A)\n",
    "x = np.matmul(inv_A,b)\n",
    "\n",
    "print(\"x =\",x[0])\n",
    "print(\"y =\",x[1])\n",
    "print(\"z =\",x[2])"
   ]
  },
  {
   "cell_type": "markdown",
   "metadata": {
    "id": "3B34NIubEbA-"
   },
   "source": [
    "## <font color='red'>5. create following two arrays:\n",
    "(a) Array of ones with 10 elements \n",
    "(b) Array a[1] = 2; a[2] = 3 and a[3] to a[10] are zero</font> "
   ]
  },
  {
   "cell_type": "code",
   "execution_count": 49,
   "metadata": {
    "id": "iu6GxTFAFZFP"
   },
   "outputs": [
    {
     "name": "stdout",
     "output_type": "stream",
     "text": [
      "Array of ones with 10 elements\n",
      " [1. 1. 1. 1. 1. 1. 1. 1. 1. 1.]\n",
      "Modified array\n",
      " [2. 3. 1. 1. 1. 1. 1. 1. 1. 1.]\n"
     ]
    }
   ],
   "source": [
    "#write code here\n",
    "A = np.ones(10)\n",
    "print(\"Array of ones with 10 elements\\n\",A)\n",
    "\n",
    "A[0] = 2; A[1] = 3 # the indices in the question are 1-indexed\n",
    "print(\"Modified array\\n\",A)"
   ]
  },
  {
   "cell_type": "markdown",
   "metadata": {
    "id": "OnPJvy9GH1H4"
   },
   "source": [
    "##Numpy: Statistics\n",
    "https://docs.scipy.org/doc/numpy-1.15.1/reference/routines.statistics.html\n",
    "\n",
    "For random sampling : https://docs.scipy.org/doc/numpy-1.15.0/reference/routines.random.html"
   ]
  },
  {
   "cell_type": "markdown",
   "metadata": {
    "id": "C_ODKpdbF758"
   },
   "source": [
    "## <font color='red'>6. Create two arrays indicating marks of students in two subjects. Get average vector of them.</font> "
   ]
  },
  {
   "cell_type": "code",
   "execution_count": 50,
   "metadata": {
    "id": "g-ndczyOGJdc"
   },
   "outputs": [
    {
     "name": "stdout",
     "output_type": "stream",
     "text": [
      "Marks of students for subject 1\n",
      " [26 26 38 42 39 28 41 35 39 33 30 46 30 27 23] \n",
      "\n",
      "Marks of students for subject 2\n",
      " [20 20 28 23 19 26 23 21 36 31 27 21 24 27 28] \n",
      "\n",
      "Average marks vector\n",
      " [23.  23.  33.  32.5 29.  27.  32.  28.  37.5 32.  28.5 33.5 27.  27.\n",
      " 25.5]\n"
     ]
    }
   ],
   "source": [
    "#write code here\n",
    "# assume marks are samples from a gaussian distribution\n",
    "sub1 = (np.random.normal( loc= 35,scale =8.5,size = 15)).astype(int)\n",
    "sub2 = (np.random.normal( loc= 25,scale =5.5,size = 15)).astype(int)\n",
    "average_vec = (sub1+sub2)/2\n",
    "print(\"Marks of students for subject 1\\n\",sub1,'\\n')\n",
    "print(\"Marks of students for subject 2\\n\",sub2,'\\n')\n",
    "print(\"Average marks vector\\n\",average_vec)\n"
   ]
  },
  {
   "cell_type": "markdown",
   "metadata": {
    "id": "3p0ybKFWbbZO"
   },
   "source": [
    "## Matplotlib: For Plot\n",
    "https://matplotlib.org/tutorials/introductory/pyplot.html#sphx-glr-tutorials-introductory-pyplot-py"
   ]
  },
  {
   "cell_type": "code",
   "execution_count": 51,
   "metadata": {
    "id": "5onZQOXoJDbZ"
   },
   "outputs": [],
   "source": [
    "import matplotlib.pyplot as plt\n",
    "%matplotlib inline\n"
   ]
  },
  {
   "cell_type": "markdown",
   "metadata": {
    "id": "Q8aC6tu_IQGE"
   },
   "source": [
    "## <font color='red'>7. Plot the following linear functions:\n",
    "\n",
    "1.   $y=2x+3 $ from $-10\\le x\\le 10$ \n",
    "2.   $y=x-15 $ from $-10\\le x\\le 10$\n",
    "<font>\n"
   ]
  },
  {
   "cell_type": "code",
   "execution_count": 52,
   "metadata": {
    "id": "3BPpQrpZnw-q"
   },
   "outputs": [
    {
     "data": {
      "image/png": "[encoded data removed]",
      "text/plain": [
       "<Figure size 432x288 with 1 Axes>"
      ]
     },
     "metadata": {
      "needs_background": "light"
     },
     "output_type": "display_data"
    }
   ],
   "source": [
    "# write code here for 1\n",
    "x = np.linspace(-10,10,100)\n",
    "y = 2*x + 3\n",
    "plt.grid()\n",
    "plt.plot(x,y,label =\"y = 2*x + 3\")\n",
    "plt.legend()\n",
    "plt.show()\n",
    "plt.close()"
   ]
  },
  {
   "cell_type": "code",
   "execution_count": 53,
   "metadata": {
    "id": "4i-cG2VKKBUN"
   },
   "outputs": [
    {
     "data": {
      "image/png": "[encoded data removed]",
      "text/plain": [
       "<Figure size 432x288 with 1 Axes>"
      ]
     },
     "metadata": {
      "needs_background": "light"
     },
     "output_type": "display_data"
    }
   ],
   "source": [
    "# write code here for 2\n",
    "plt.grid()\n",
    "y = x -15\n",
    "plt.plot(x,y,label =\"y = x -15\")\n",
    "plt.legend()\n",
    "plt.show()\n",
    "plt.close()"
   ]
  },
  {
   "cell_type": "markdown",
   "metadata": {
    "id": "jdlxVdsxcYuD"
   },
   "source": [
    "## <font color='red'>8. Plot the following non-linear functions:\n",
    "\n",
    "1.   $y=2x^2+3x+1 $ from $-10\\le x\\le 10$ \n",
    "2.   $y=x^3+1 $ from $-10\\le x\\le 10$\n",
    "<font>"
   ]
  },
  {
   "cell_type": "code",
   "execution_count": 54,
   "metadata": {
    "id": "07HnsfnSdjqk"
   },
   "outputs": [
    {
     "data": {
      "image/png": "[encoded data removed]",
      "text/plain": [
       "<Figure size 432x288 with 1 Axes>"
      ]
     },
     "metadata": {
      "needs_background": "light"
     },
     "output_type": "display_data"
    }
   ],
   "source": [
    "# write code here for 3\n",
    "plt.grid()\n",
    "y = 2*np.square(x) + 3*x + 1\n",
    "plt.plot(x,y,label =\"y =2x^2 + 3x + 1 \")\n",
    "plt.legend()\n",
    "plt.show()\n",
    "plt.close()"
   ]
  },
  {
   "cell_type": "code",
   "execution_count": 55,
   "metadata": {
    "id": "zH53q0TcdkPv"
   },
   "outputs": [
    {
     "data": {
      "image/png": "[encoded data removed]",
      "text/plain": [
       "<Figure size 432x288 with 1 Axes>"
      ]
     },
     "metadata": {
      "needs_background": "light"
     },
     "output_type": "display_data"
    }
   ],
   "source": [
    "# write code here for 4\n",
    "plt.grid()\n",
    "y = np.power(x,3) + 1\n",
    "plt.plot(x,y,label =\"y = x^3 + 1\")\n",
    "plt.legend()\n",
    "plt.show()\n",
    "plt.close()"
   ]
  },
  {
   "cell_type": "markdown",
   "metadata": {
    "id": "GobP2IePGThL"
   },
   "source": [
    "## <font color='red'>9. Write code to verify whether the given vectors are linearly independent or not.\n",
    "v1 = [6 0 3 1 4 2];\n",
    "v2 = [0 -1 2 7 0 5];\n",
    "v3 = [12 3 0 -19 8 -11].</font> \n",
    "\n",
    "Hint: You can use matrix rank or rref form with help of numpy.linalg library "
   ]
  },
  {
   "cell_type": "code",
   "execution_count": 56,
   "metadata": {
    "id": "hYOPaUUqG0-Y"
   },
   "outputs": [
    {
     "name": "stdout",
     "output_type": "stream",
     "text": [
      "vectors are NOT linearly independent\n"
     ]
    }
   ],
   "source": [
    "#write code here\n",
    "v1 = [6,0, 3, 1, 4, 2]; v2 = [0, -1, 2, 7, 0, 5]; v3 = [12, 3, 0, -19, 8, -11]\n",
    "mat = np.array([v1,v2,v3])\n",
    "from numpy import linalg as LA\n",
    "rank = LA.matrix_rank(mat)\n",
    "if rank < mat.shape[0]:\n",
    "    print(\"vectors are NOT linearly independent\")\n",
    "else:\n",
    "    print(\"vectors are linearly independent\")"
   ]
  },
  {
   "cell_type": "markdown",
   "metadata": {
    "id": "dHjk5I0QM3S0"
   },
   "source": [
    "## <font color='red'>10. For real symmetric matrix.  \n",
    "1.   Find the Eigen values and eigen vectors\n",
    "2.   Verify properties of Eigen values and Eigen vector.</font>\n",
    "\n",
    "As example, $A=\\begin{bmatrix}1 & 2 & 3 \\\\2 & 5 & 6\\\\3 & 6 & 7\n",
    "\\end{bmatrix}$"
   ]
  },
  {
   "cell_type": "code",
   "execution_count": 57,
   "metadata": {
    "id": "pIwy4pqQN1cn"
   },
   "outputs": [
    {
     "name": "stdout",
     "output_type": "stream",
     "text": [
      "Eigen values\n",
      " [13.14061745  0.32610415 -0.4667216 ]\n",
      "\n",
      "Eigen vectors\n",
      " [[-0.28323481 -0.68784863 -0.66831303]\n",
      " [-0.61312867  0.66571204 -0.42532424]\n",
      " [-0.73746272 -0.28929525  0.61029254]]\n",
      "\n",
      "Sum of eigen values : 13.00000000000001\n",
      "Trace of A : 13\n",
      "\n",
      "Product of eigen values: -2.0000000000000004\n",
      "det(A) -2.000000000000001\n",
      "\n",
      " verifying Av = cv property for eigen vectors v of A\n",
      "\n",
      "A.v1 =  [-3.72188033 -8.05688934 -9.69071555]\n",
      "c1.v1 =  [-3.72188033 -8.05688934 -9.69071555]\n",
      "\n",
      "A.v2 =  [-0.22431029  0.21709146 -0.09434038]\n",
      "c1.v2 =  [-0.22431029  0.21709146 -0.09434038]\n",
      "\n",
      "A.v3 =  [ 0.31191613  0.19850801 -0.28483671]\n",
      "c1.v3 =  [ 0.31191613  0.19850801 -0.28483671]\n"
     ]
    }
   ],
   "source": [
    "#write code here\n",
    "A = np.array([\n",
    "    [1,2,3],\n",
    "    [2,5,6],\n",
    "    [3,6,7]\n",
    "])\n",
    "eig_values, eig_vectors = LA.eig(A)\n",
    "print(\"Eigen values\\n\",eig_values)\n",
    "print(\"\\nEigen vectors\\n\",eig_vectors)\n",
    "\n",
    "print(\"\\nSum of eigen values :\", np.sum(eig_values))\n",
    "print(\"Trace of A :\", np.trace(A))\n",
    "\n",
    "print(\"\\nProduct of eigen values:\", np.product(eig_values))\n",
    "print(\"det(A)\",LA.det(A))\n",
    "\n",
    "print(\"\\n verifying Av = cv property for eigen vectors v of A\")\n",
    "v1 = eig_vectors[:,0]\n",
    "v2 = eig_vectors[:,1]\n",
    "v3 = eig_vectors[:,2]\n",
    "\n",
    "print(\"\\nA.v1 = \",np.dot(A,v1))\n",
    "print(\"c1.v1 = \",np.dot(eig_values[0],v1))\n",
    "\n",
    "print(\"\\nA.v2 = \",np.dot(A,v2))\n",
    "print(\"c1.v2 = \",np.dot(eig_values[1],v2))\n",
    "\n",
    "print(\"\\nA.v3 = \",np.dot(A,v3))\n",
    "print(\"c1.v3 = \",np.dot(eig_values[2],v3))"
   ]
  },
  {
   "cell_type": "markdown",
   "metadata": {
    "id": "167i2Ni7X1oZ"
   },
   "source": [
    "## Python Function:\n",
    "https://www.tutorialspoint.com/python/python_functions.htm"
   ]
  },
  {
   "cell_type": "markdown",
   "metadata": {
    "id": "iauUBzH2SKPk"
   },
   "source": [
    "## <font color='red'>11. Write code for the following:\n",
    "  \n",
    "\n",
    "1.   Create a column vector with 10 values of temperature in degree centigrade $C^\\circ$\n",
    "2.   Convert each of the temperature values in degree Fahrenheit using the formula $$F^\\circ=\\frac{9}{2}C^\\circ+32$$\n",
    "1.   Make the final matrix with temperature values in $C^\\circ$ as the first column and in F as the second column.\n",
    "<font>\n",
    "\n"
   ]
  },
  {
   "cell_type": "code",
   "execution_count": 58,
   "metadata": {
    "id": "RDtWZvYuTsPS"
   },
   "outputs": [],
   "source": [
    "def ctof(c):\n",
    "  #write code here to convert c to f\n",
    "  f = 4.5*c + 32\n",
    "  return f"
   ]
  },
  {
   "cell_type": "code",
   "execution_count": 59,
   "metadata": {
    "id": "DqwYVjmWUz4H"
   },
   "outputs": [
    {
     "name": "stdout",
     "output_type": "stream",
     "text": [
      "[[88.19019923 12.76977857 93.15484812 64.79690065 39.75558556 73.73755915\n",
      "  35.90471331 64.69947364 23.01707979 91.13464341]]\n"
     ]
    }
   ],
   "source": [
    "#write code for 1\n",
    "c = np.random.rand(1,10)*100\n",
    "print(c)"
   ]
  },
  {
   "cell_type": "code",
   "execution_count": 60,
   "metadata": {
    "id": "--ytBr4EYEL_"
   },
   "outputs": [
    {
     "name": "stdout",
     "output_type": "stream",
     "text": [
      "[[428.85589652  89.46400355 451.19681652 323.58605292 210.90013502\n",
      "  363.81901616 193.57120991 323.14763139 135.57685903 442.10589534]]\n"
     ]
    }
   ],
   "source": [
    "#write code for 2\n",
    "f = ctof(c)\n",
    "print(f)"
   ]
  },
  {
   "cell_type": "code",
   "execution_count": 61,
   "metadata": {
    "id": "jHbry5XnYNpN"
   },
   "outputs": [
    {
     "name": "stdout",
     "output_type": "stream",
     "text": [
      "[[[ 88.19019923 428.85589652]]\n",
      "\n",
      " [[ 12.76977857  89.46400355]]\n",
      "\n",
      " [[ 93.15484812 451.19681652]]\n",
      "\n",
      " [[ 64.79690065 323.58605292]]\n",
      "\n",
      " [[ 39.75558556 210.90013502]]\n",
      "\n",
      " [[ 73.73755915 363.81901616]]\n",
      "\n",
      " [[ 35.90471331 193.57120991]]\n",
      "\n",
      " [[ 64.69947364 323.14763139]]\n",
      "\n",
      " [[ 23.01707979 135.57685903]]\n",
      "\n",
      " [[ 91.13464341 442.10589534]]]\n"
     ]
    }
   ],
   "source": [
    "#write code for 3\n",
    "cf = np.array([c,f]).T\n",
    "print(cf)"
   ]
  },
  {
   "cell_type": "markdown",
   "metadata": {
    "id": "7R2JhXrrY9-2"
   },
   "source": [
    "## Python : Control statements\n",
    "if else: https://www.w3schools.com/python/python_conditions.asp\n",
    "\n",
    "while loop : https://www.w3schools.com/python/python_while_loops.asp\n",
    "\n",
    "for loop : https://www.w3schools.com/python/python_for_loops.asp"
   ]
  },
  {
   "cell_type": "markdown",
   "metadata": {
    "id": "ER-fUvoFYir-"
   },
   "source": [
    "## <font color='red'>12. Determine the probability of 3 heads in 4 tosses of a coin with probability of head being $p=0.75$. Use a relative frequency interpretation of probability to yield the result."
   ]
  },
  {
   "cell_type": "code",
   "execution_count": 62,
   "metadata": {
    "id": "80ti1ZQTY8UF"
   },
   "outputs": [
    {
     "name": "stdout",
     "output_type": "stream",
     "text": [
      " probability of 3 heads in 4 tosses of a coin with probability of head being 0.75:\n",
      " 0.4218885\n"
     ]
    }
   ],
   "source": [
    "#write code here\n",
    "import random\n",
    "def toss():\n",
    "    \"\"\"simulation of tossing the biased coin\"\"\"\n",
    "    if random.uniform(0,1) < 0.75:\n",
    "        return 'H'\n",
    "    return 'T'\n",
    "def toss_four_times():\n",
    "    \"\"\"simulation of tosssing the coin four times,\\\n",
    "    returns the realative head count\"\"\"\n",
    "    heads = 0\n",
    "    for i in range(4):\n",
    "        if toss() == 'H':\n",
    "            heads+=1\n",
    "    return heads\n",
    "\n",
    "def simulate(N):\n",
    "    \"\"\"repeats the \"toss_four_times\" N(large) times to improve the accuracy of \\\n",
    "    experimental probability \"\"\"\n",
    "    heads_readings = []\n",
    "    for i in range(N):\n",
    "        heads_readings.append(toss_four_times())\n",
    "    head_count = heads_readings.count(3)\n",
    "    return head_count/N\n",
    "print(\" probability of 3 heads in 4 tosses \\\n",
    "of a coin with probability of head being 0.75:\\n\", simulate(10**7))"
   ]
  },
  {
   "cell_type": "markdown",
   "metadata": {
    "id": "uqQyo3jNd3Df"
   },
   "source": [
    "## <font color='red'>13. Write a program that will add all the numbers corresponding to the even indices of an array. Use that program to find the sum of all even integers from 1 to 1000.<font>"
   ]
  },
  {
   "cell_type": "code",
   "execution_count": 63,
   "metadata": {
    "id": "JzmE6DJJeYvH"
   },
   "outputs": [],
   "source": [
    "#hint: Write your program as follows: where x is the input vector, and y is the sum of all the numbers corresponding to the even indices of x. \n",
    "def addeven(x):\n",
    "    sum = 0\n",
    "    for i in range(0,len(x),2):\n",
    "        sum += x[i]\n",
    "    return sum"
   ]
  },
  {
   "cell_type": "code",
   "execution_count": 64,
   "metadata": {
    "id": "swRSzjrUeu3D"
   },
   "outputs": [
    {
     "data": {
      "text/plain": [
       "250500.0"
      ]
     },
     "execution_count": 64,
     "metadata": {},
     "output_type": "execute_result"
    }
   ],
   "source": [
    "a = np.linspace(0,1000,1001)#  even numbers at even indices\n",
    "addeven(a)"
   ]
  },
  {
   "cell_type": "markdown",
   "metadata": {
    "id": "VEF3kNXLcYuK"
   },
   "source": [
    "## <font color='red'>14. Write a program to generate random number.<font>\n",
    "    Hint: use Linear Congruential Generator. link: https://en.wikipedia.org/wiki/Linear_congruential_generator"
   ]
  },
  {
   "cell_type": "code",
   "execution_count": 65,
   "metadata": {},
   "outputs": [],
   "source": [
    "def lcg(seed = 123520014878917894, m = 2**61,c = 1234567,a =1103515247, size = 10):\n",
    "    #randomNums[i] = ((randomNums[i – 1] * a) + c) % m \n",
    "    random_nums = [seed]\n",
    "    for i in range(0,size):\n",
    "         random_nums.append(((a * random_nums[i - 1] + c) % m))\n",
    "    return random_nums"
   ]
  },
  {
   "cell_type": "code",
   "execution_count": 66,
   "metadata": {},
   "outputs": [
    {
     "data": {
      "text/plain": [
       "[457842658792458574,\n",
       " 820208807639802713,\n",
       " 820208807639802713,\n",
       " 1918522625912801310,\n",
       " 1918522625912801310,\n",
       " 962721636545363849,\n",
       " 962721636545363849,\n",
       " 487060411529421038,\n",
       " 487060411529421038,\n",
       " 279726249577013689,\n",
       " 279726249577013689,\n",
       " 1545220788066325438,\n",
       " 1545220788066325438,\n",
       " 1187268934067636713,\n",
       " 1187268934067636713,\n",
       " 828283404442722446]"
      ]
     },
     "execution_count": 66,
     "metadata": {},
     "output_type": "execute_result"
    }
   ],
   "source": [
    "lcg(seed = 457842658792458574,size = 15)"
   ]
  }
 ],
 "metadata": {
  "accelerator": "GPU",
  "colab": {
   "collapsed_sections": [],
   "name": "LAB_1.ipynb",
   "provenance": []
  },
  "kernelspec": {
   "display_name": "Python 3 (ipykernel)",
   "language": "python",
   "name": "python3"
  },
  "language_info": {
   "codemirror_mode": {
    "name": "ipython",
    "version": 3
   },
   "file_extension": ".py",
   "mimetype": "text/x-python",
   "name": "python",
   "nbconvert_exporter": "python",
   "pygments_lexer": "ipython3",
   "version": "3.8.11"
  }
 },
 "nbformat": 4,
 "nbformat_minor": 1
}
